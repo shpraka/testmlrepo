{
 "cells": [
  {
   "cell_type": "code",
   "execution_count": null,
   "metadata": {},
   "outputs": [],
   "source": [
    "import os\n",
    "import numpy as np\n",
    "import pandas as pd\n",
    "from sklearn.linear_model import LinearRegression\n",
    "from sklearn.model_selection import train_test_split\n",
    "from sklearn import metrics\n",
    "import subprocess\n",
    "import json"
   ]
  },
  {
   "cell_type": "code",
   "execution_count": null,
   "metadata": {},
   "outputs": [],
   "source": [
    "input_datUrl = \"https://genpurposestorage.blob.core.windows.net/imagescontainer/TrainingData2.csv\"\n",
    "subprocess.check_output(\"curl -L -o mydatafile.csv  https://genpurposestorage.blob.core.windows.net/imagescontainer/TrainingData2.csv\",shell=True) \n",
    "df = pd.read_csv(\"mydatafile.csv\")\n",
    "with open(\"dataset.json\",'w') as f:\n",
    "    json.dump(input_datUrl, f)"
   ]
  },
  {
   "cell_type": "code",
   "execution_count": null,
   "metadata": {},
   "outputs": [],
   "source": [
    "x = df.iloc[:, :-1]\n",
    "y = df.iloc[:, 1]\n",
    "x_train, x_test, y_train, y_test = train_test_split(x, y, test_size = 0.3, random_state = 0)"
   ]
  },
  {
   "cell_type": "code",
   "execution_count": null,
   "metadata": {
    "scrolled": true
   },
   "outputs": [],
   "source": [
    "simplelinearRegression = LinearRegression()\n",
    "simplelinearRegression.fit(x_train, y_train)"
   ]
  },
  {
   "cell_type": "code",
   "execution_count": null,
   "metadata": {
    "scrolled": true
   },
   "outputs": [],
   "source": [
    "y_predict = simplelinearRegression.predict(x_test)\n",
    "predict = pd.DataFrame(y_predict)\n",
    "predict.apply(np.round)"
   ]
  },
  {
   "cell_type": "code",
   "execution_count": null,
   "metadata": {},
   "outputs": [],
   "source": [
    "simplelinearRegression.__dict__ , y_predict.mean(), y_predict.std()"
   ]
  },
  {
   "cell_type": "code",
   "execution_count": null,
   "metadata": {},
   "outputs": [],
   "source": [
    "import pickle"
   ]
  },
  {
   "cell_type": "code",
   "execution_count": null,
   "metadata": {},
   "outputs": [],
   "source": [
    "# Assuming the user has hooks for the output data\n",
    "output = open('azdevopsdemo.pkl', 'wb')\n",
    "pickle.dump(simplelinearRegression, output)\n",
    "output.close()"
   ]
  },
  {
   "cell_type": "code",
   "execution_count": null,
   "metadata": {},
   "outputs": [],
   "source": [
    "metrics_result = {}\n",
    "metrics_result['MeanAbsoluteError'] = str(metrics.mean_absolute_error(y_test, y_predict))\n",
    "metrics_result['MeanSquaredError'] = str(metrics.mean_squared_error(y_test, y_predict))\n",
    "metrics_result['RootMeanSquaredError'] = str(np.sqrt(metrics.mean_squared_error(y_test, y_predict)))\n",
    "\n",
    "ytest = [i for i in y_test]\n",
    "ypredict= [int(i) for i in y_predict]\n",
    "metrics_result['Accuracy'] = str(metrics.accuracy_score(ytest,ypredict))\n",
    "\n",
    "metrics_result"
   ]
  },
  {
   "cell_type": "code",
   "execution_count": null,
   "metadata": {},
   "outputs": [],
   "source": [
    "with open(\"metrics.json\",'w') as f:\n",
    "    json.dump(metrics_result, f)"
   ]
  },
  {
   "cell_type": "code",
   "execution_count": null,
   "metadata": {},
   "outputs": [],
   "source": []
  }
 ],
 "metadata": {
  "kernelspec": {
   "display_name": "Python 3",
   "language": "python",
   "name": "python3"
  },
  "language_info": {
   "codemirror_mode": {
    "name": "ipython",
    "version": 3
   },
   "file_extension": ".py",
   "mimetype": "text/x-python",
   "name": "python",
   "nbconvert_exporter": "python",
   "pygments_lexer": "ipython3",
   "version": "3.6.6"
  },
  "varInspector": {
   "cols": {
    "lenName": "16",
    "lenType": "16",
    "lenVar": 40
   },
   "kernels_config": {
    "python": {
     "delete_cmd_postfix": "",
     "delete_cmd_prefix": "del ",
     "library": "var_list.py",
     "varRefreshCmd": "print(var_dic_list())"
    },
    "r": {
     "delete_cmd_postfix": ") ",
     "delete_cmd_prefix": "rm(",
     "library": "var_list.r",
     "varRefreshCmd": "cat(var_dic_list()) "
    }
   },
   "types_to_exclude": [
    "module",
    "function",
    "builtin_function_or_method",
    "instance",
    "_Feature"
   ],
   "window_display": false
  }
 },
 "nbformat": 4,
 "nbformat_minor": 2
}
